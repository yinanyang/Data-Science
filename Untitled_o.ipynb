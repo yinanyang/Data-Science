{
 "cells": [
  {
   "cell_type": "code",
   "execution_count": null,
   "metadata": {},
   "outputs": [],
   "source": [
    "import seaborn as sns\n",
    "import pandas as pd\n",
    "import matplotlib.pyplot as plt\n",
    "from pandas.tools.plotting import scatter_matrix\n",
    "import numpy as np"
   ]
  },
  {
   "cell_type": "code",
   "execution_count": null,
   "metadata": {},
   "outputs": [],
   "source": [
    "data=pd.read_csv('DF1')"
   ]
  },
  {
   "cell_type": "code",
   "execution_count": null,
   "metadata": {},
   "outputs": [],
   "source": [
    "xs=data.iloc[:,1:5]\n",
    "xs"
   ]
  },
  {
   "cell_type": "code",
   "execution_count": null,
   "metadata": {},
   "outputs": [],
   "source": [
    "n1=sns.pairplot(xs)"
   ]
  },
  {
   "cell_type": "code",
   "execution_count": null,
   "metadata": {},
   "outputs": [],
   "source": [
    "scatter_matrix(xs,figsize=(10,10))  \n",
    "plt.show()"
   ]
  },
  {
   "cell_type": "code",
   "execution_count": null,
   "metadata": {},
   "outputs": [],
   "source": [
    "print(np.cov(xs.T))"
   ]
  },
  {
   "cell_type": "markdown",
   "metadata": {},
   "source": [
    "#### C=⎡⎣⎢⎢Cov(X,X)Cov(Y,X)Cov(Z,X)Cov(X,Y)Cov(Y,Y)Cov(Z,Y)Cov(X,Z)Cov(Y,Z)Cov(Z,Z)⎤⎦⎥⎥ 公式格式不对"
   ]
  },
  {
   "cell_type": "markdown",
   "metadata": {},
   "source": [
    "Each value of the covariance matrix is the covariance of the two random variables corresponding to the subscript (ie, the degree of correlation)\n",
    "\n",
    "When the number in the covariance matrix close to 0, the two columns are irrelevant. When the number in the covariance matrix close to 0, the two columns are irrelevant.When the number in the covariance matrix close to 1, the two columns are irrelevant positive correlated. When the number in the covariance matrix close to -1, the two columns are irrelevant negative correlated. \n",
    "\n",
    "If we found there is number in the matrix which is close to 0, then we can found the picture of cluster in the same location of the picture above. If we found there is number in the matrix which is close to 1, then we can found the picture of line with positive slope in the same location of the picture above. If we found there is number in the matrix which is close to -1, then we can found the picture of line with negative slope in the same location of the picture above. "
   ]
  },
  {
   "cell_type": "code",
   "execution_count": null,
   "metadata": {},
   "outputs": [],
   "source": [
    "import glob\n",
    "import os\n",
    "import numpy as np\n",
    " \n",
    "path='/Users/kaylayang/Documents/hwk2-data'\n",
    "f ='/Users/kaylayang/Documents/hwk2-datat/file_select.txt'\n",
    " \n",
    "def read_File(path):\n",
    "    cate=[path+'/'+x for x in os.listdir(path)]\n",
    "    f2 = open(f, 'a+')\n",
    "    for idx,folder in enumerate(cate):\n",
    "        for im in glob.glob('job'+folder+'.txt'):\n",
    "            f1 = open(im, 'r')\n",
    "            for eachLine in f1:\n",
    "                f2.write(eachLine)\n",
    "                f2.write(' '+str(idx+1)+'\\n')\n",
    "            f1.close()\n",
    " \n",
    "read_writeFile(path,f)"
   ]
  },
  {
   "cell_type": "markdown",
   "metadata": {},
   "source": [
    "### 4. Names and Frequencies."
   ]
  },
  {
   "cell_type": "code",
   "execution_count": null,
   "metadata": {},
   "outputs": [],
   "source": [
    "import os\n",
    "import os.path #文件夹遍历函数  \n",
    "#获取目标文件夹的路径\n",
    "filedir = '/Users/kaylayang/Documents/hwk2-data'\n",
    "#获取当前文件夹中的文件名称列表  \n",
    "filename=input('Please input the year:')\n",
    "k=input('Please input the number:')\n",
    "#打开当前目录下的result.txt文件，如果没有则创建\n",
    "f=open('file_select.txt','w')\n",
    "#先遍历文件名\n",
    "filepath = filedir+'/'+'yob'+filename+'.txt'\n",
    "#遍历单个文件，读取行数\n",
    "file_select=pd.read_csv(filepath, header=None)\n",
    "data_top=file_select.head(int(k))\n",
    "print(data_top)"
   ]
  },
  {
   "cell_type": "code",
   "execution_count": null,
   "metadata": {},
   "outputs": [],
   "source": [
    "py=input('Please input the year:')\n",
    "p_name=input('Please input the name:')\n",
    "filedir = '/Users/kaylayang/Documents/hwk2-data'\n",
    "py_path = filedir+'/'+'yob'+py+'.txt'\n",
    "name_data=pd.read_csv(py_path, header = None)"
   ]
  },
  {
   "cell_type": "code",
   "execution_count": null,
   "metadata": {},
   "outputs": [],
   "source": [
    "list1=[]\n",
    "for indexs in name_data.index:\n",
    "    for  i in range(len(name_data.loc[indexs].values)):\n",
    "        if(name_data.loc[indexs].values[i] ==p_name):\n",
    "            list1.append(indexs)"
   ]
  },
  {
   "cell_type": "code",
   "execution_count": null,
   "metadata": {
    "scrolled": true
   },
   "outputs": [],
   "source": [
    "f=0\n",
    "for n in list1:\n",
    "    if name_data.iloc[n,1] == 'F':\n",
    "        print('The f of female is:'+str(name_data.iloc[n,2])+'\\n')\n",
    "    elif name_data.iloc[n,1] == 'M':\n",
    "        print('The f of male is:'+str(name_data.iloc[n,2])+'\\n')\n",
    "\n",
    "    "
   ]
  },
  {
   "cell_type": "code",
   "execution_count": null,
   "metadata": {},
   "outputs": [],
   "source": [
    "import os\n",
    "import os.path\n",
    "rootdir = \"/Users/kaylayang/Documents/hwk2-data\"\n",
    "\n",
    "file_object = open('filename_list.txt','w')\n",
    "\n",
    "for parent,dirnames,filenames in os.walk(rootdir):\n",
    "    for filename in filenames:\n",
    "        print (filename)\n",
    "        file_object.write(filename+ '\\n')\n",
    "file_object.close()"
   ]
  },
  {
   "cell_type": "code",
   "execution_count": null,
   "metadata": {},
   "outputs": [],
   "source": [
    "filedir = '/Users/kaylayang/Documents/hwk2-data'\n",
    "p_name=input('Please input the name:')\n",
    "a=list(range(1880,2016))\n",
    "print(a)\n",
    "for year in a:\n",
    "    f_py_path = filedir+'/'+'yob'+str(year)+'.txt'\n",
    "    f_name_data=pd.read_csv(f_py_path, header = None)\n",
    "    list1=[]\n",
    "    for indexs in name_data.index:\n",
    "        for  i in range(len(name_data.loc[indexs].values)):\n",
    "            if(name_data.loc[indexs].values[i] ==p_name):\n",
    "                list1.append(indexs)\n",
    "f=0\n",
    "for n in list1:\n",
    "    if name_data.iloc[n,1] == 'F':\n",
    "        print('The f of female is:'+str(name_data.iloc[n,2])+'\\n')\n",
    "    elif name_data.iloc[n,1] == 'M':\n",
    "        print('The f of male is:'+str(name_data.iloc[n,2])+'\\n')"
   ]
  },
  {
   "cell_type": "markdown",
   "metadata": {},
   "source": [
    "## 5. Visualization Tools and Missing/Hidden Values. "
   ]
  },
  {
   "cell_type": "code",
   "execution_count": null,
   "metadata": {},
   "outputs": [],
   "source": [
    "tweets_data=pd.read_csv('tweets.csv')"
   ]
  },
  {
   "cell_type": "code",
   "execution_count": null,
   "metadata": {},
   "outputs": [],
   "source": [
    "tweets_data.head(10)"
   ]
  },
  {
   "cell_type": "code",
   "execution_count": null,
   "metadata": {},
   "outputs": [],
   "source": []
  }
 ],
 "metadata": {
  "kernelspec": {
   "display_name": "Python 3",
   "language": "python",
   "name": "python3"
  },
  "language_info": {
   "codemirror_mode": {
    "name": "ipython",
    "version": 3
   },
   "file_extension": ".py",
   "mimetype": "text/x-python",
   "name": "python",
   "nbconvert_exporter": "python",
   "pygments_lexer": "ipython3",
   "version": "3.6.5"
  }
 },
 "nbformat": 4,
 "nbformat_minor": 2
}
